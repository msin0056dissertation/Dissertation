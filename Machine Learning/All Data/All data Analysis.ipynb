{
 "cells": [
  {
   "cell_type": "markdown",
   "id": "53fb7b35",
   "metadata": {},
   "source": [
    "# Table of Content\n",
    "\n",
    "* [1. Importing Dataframes](#1.-Importing-Dataframes)\n",
    "* [2. Hypothesis Tests](#2.-Hypothesis-Tests)\n",
    "    * [2.1. Pro Data](#2.1.-Pro-Data)\n",
    "    * [2.2. Anti Data](#2.2.-Anti-Data)\n",
    "    * [2.3. All Data](#2.2.-All-Data)\n",
    "* [3. T-test](#3.-T-test)"
   ]
  },
  {
   "cell_type": "code",
   "execution_count": null,
   "id": "ca4182c4",
   "metadata": {},
   "outputs": [],
   "source": [
    "import pandas as pd\n",
    "import numpy as np\n",
    "\n",
    "from statsmodels.stats.proportion import proportions_ztest\n",
    "from scipy.stats import chi2_contingency"
   ]
  },
  {
   "cell_type": "markdown",
   "id": "b0860420",
   "metadata": {},
   "source": [
    "# 1. Importing Dataframes"
   ]
  },
  {
   "cell_type": "code",
   "execution_count": 3,
   "id": "17aa9c7c",
   "metadata": {},
   "outputs": [],
   "source": [
    "proabortiondf = pd.read_csv('proabortion.csv')"
   ]
  },
  {
   "cell_type": "code",
   "execution_count": 4,
   "id": "38265d30",
   "metadata": {},
   "outputs": [],
   "source": [
    "antiabortiondf = pd.read_csv('antiabortion.csv')"
   ]
  },
  {
   "cell_type": "code",
   "execution_count": 5,
   "id": "cb6b94ed",
   "metadata": {},
   "outputs": [],
   "source": [
    "proBLMdf = pd.read_csv('proBLM.csv')"
   ]
  },
  {
   "cell_type": "code",
   "execution_count": 6,
   "id": "af672752",
   "metadata": {},
   "outputs": [],
   "source": [
    "antiBLMdf = pd.read_csv('antiBLM.csv')"
   ]
  },
  {
   "cell_type": "code",
   "execution_count": 7,
   "id": "e863cd43",
   "metadata": {},
   "outputs": [],
   "source": [
    "proTrumpdf = pd.read_csv('proTrump.csv')"
   ]
  },
  {
   "cell_type": "code",
   "execution_count": 8,
   "id": "a1ff90e1",
   "metadata": {},
   "outputs": [],
   "source": [
    "antiTrumpdf = pd.read_csv('antiTrump.csv')"
   ]
  },
  {
   "cell_type": "code",
   "execution_count": 15,
   "id": "1370b35d",
   "metadata": {},
   "outputs": [],
   "source": [
    "procsv = ['proabortion.csv','proBLM.csv','proTrump.csv']"
   ]
  },
  {
   "cell_type": "code",
   "execution_count": 16,
   "id": "be8dd38c",
   "metadata": {},
   "outputs": [],
   "source": [
    "anticsv = ['antiabortion.csv','antiBLM.csv', 'antiTrump.csv']"
   ]
  },
  {
   "cell_type": "code",
   "execution_count": 9,
   "id": "7bda6ee2",
   "metadata": {},
   "outputs": [],
   "source": [
    "allcsv = ['proabortion.csv', 'antiabortion.csv', 'proBLM.csv', 'antiBLM.csv', 'proTrump.csv', 'antiTrump.csv']\n",
    "\n"
   ]
  },
  {
   "cell_type": "code",
   "execution_count": 17,
   "id": "4f58aa27",
   "metadata": {},
   "outputs": [],
   "source": [
    "prodfs = [pd.read_csv(file) for file in procsv]\n",
    "\n",
    "prodfs = pd.concat(prodfs, ignore_index = True) \n"
   ]
  },
  {
   "cell_type": "code",
   "execution_count": 18,
   "id": "9755238f",
   "metadata": {},
   "outputs": [],
   "source": [
    "antidfs = [pd.read_csv(file) for file in anticsv]\n",
    "\n",
    "antidfs = pd.concat(antidfs, ignore_index = True) \n"
   ]
  },
  {
   "cell_type": "code",
   "execution_count": 12,
   "id": "d99d2fb5",
   "metadata": {},
   "outputs": [],
   "source": [
    "alldfs = [pd.read_csv(file) for file in allcsv]\n",
    "\n",
    "alldfs = pd.concat(alldfs, ignore_index = True) \n"
   ]
  },
  {
   "cell_type": "code",
   "execution_count": 23,
   "id": "d1742b65",
   "metadata": {},
   "outputs": [
    {
     "data": {
      "text/plain": [
       "1    6979\n",
       "0    3723\n",
       "2    2081\n",
       "Name: sent_2, dtype: int64"
      ]
     },
     "execution_count": 23,
     "metadata": {},
     "output_type": "execute_result"
    }
   ],
   "source": [
    "prodfs['sent_2'].value_counts()"
   ]
  },
  {
   "cell_type": "code",
   "execution_count": 24,
   "id": "88166a7c",
   "metadata": {},
   "outputs": [
    {
     "data": {
      "text/plain": [
       "1    5899\n",
       "0    3927\n",
       "2    2792\n",
       "Name: sent_2, dtype: int64"
      ]
     },
     "execution_count": 24,
     "metadata": {},
     "output_type": "execute_result"
    }
   ],
   "source": [
    "antidfs['sent_2'].value_counts()"
   ]
  },
  {
   "cell_type": "code",
   "execution_count": 25,
   "id": "d41734fd",
   "metadata": {},
   "outputs": [
    {
     "data": {
      "text/plain": [
       "1    12878\n",
       "0     7650\n",
       "2     4873\n",
       "Name: sent_2, dtype: int64"
      ]
     },
     "execution_count": 25,
     "metadata": {},
     "output_type": "execute_result"
    }
   ],
   "source": [
    "alldfs['sent_2'].value_counts()"
   ]
  },
  {
   "cell_type": "markdown",
   "id": "4f5e51c2",
   "metadata": {},
   "source": [
    "# 2. Hypothesis Tests"
   ]
  },
  {
   "cell_type": "markdown",
   "id": "2926cf3a",
   "metadata": {},
   "source": [
    "## 2.1. Pro Data"
   ]
  },
  {
   "cell_type": "code",
   "execution_count": 31,
   "id": "7f0c8cf4",
   "metadata": {},
   "outputs": [
    {
     "name": "stdout",
     "output_type": "stream",
     "text": [
      "X-squared = 1392.26, df = 2, p-value = 0.00000\n"
     ]
    }
   ],
   "source": [
    "table = [[3723, 6979,  2981], [12783, 12783, 12783]]\n",
    "stat, p, dof, expected = chi2_contingency(table)\n",
    "print('X-squared = %.2f, df = %d, p-value = %.5f' % (stat, dof, p))\n"
   ]
  },
  {
   "cell_type": "code",
   "execution_count": 34,
   "id": "70cd2694",
   "metadata": {},
   "outputs": [
    {
     "name": "stdout",
     "output_type": "stream",
     "text": [
      "stat=12.816, p=0.000\n"
     ]
    }
   ],
   "source": [
    "count = np.array([3723, 2981])\n",
    "nobs = np.array([6704, 6704])\n",
    "stat, pval = proportions_ztest(count, nobs, alternative='larger')\n",
    "print('stat=%.3f, p=%.3f' % (stat, pval))"
   ]
  },
  {
   "cell_type": "markdown",
   "id": "da82b1f9",
   "metadata": {},
   "source": [
    "## 2.2. Anti Data"
   ]
  },
  {
   "cell_type": "code",
   "execution_count": 35,
   "id": "31e2f817",
   "metadata": {},
   "outputs": [
    {
     "name": "stdout",
     "output_type": "stream",
     "text": [
      "X-squared = 867.72, df = 2, p-value = 0.00000\n"
     ]
    }
   ],
   "source": [
    "table = [[3927, 5899,  2792], [12618, 12618, 12618]]\n",
    "stat, p, dof, expected = chi2_contingency(table)\n",
    "print('X-squared = %.2f, df = %d, p-value = %.5f' % (stat, dof, p))\n"
   ]
  },
  {
   "cell_type": "code",
   "execution_count": 36,
   "id": "dd7c6ee2",
   "metadata": {},
   "outputs": [
    {
     "name": "stdout",
     "output_type": "stream",
     "text": [
      "stat=19.582, p=0.000\n"
     ]
    }
   ],
   "source": [
    "count = np.array([3927, 2792])\n",
    "nobs = np.array([6719, 6719])\n",
    "stat, pval = proportions_ztest(count, nobs, alternative='larger')\n",
    "print('stat=%.3f, p=%.3f' % (stat, pval))"
   ]
  },
  {
   "cell_type": "markdown",
   "id": "af634572",
   "metadata": {},
   "source": [
    "## 2.3. All Data"
   ]
  },
  {
   "cell_type": "code",
   "execution_count": 37,
   "id": "66e56401",
   "metadata": {},
   "outputs": [
    {
     "name": "stdout",
     "output_type": "stream",
     "text": [
      "X-squared = 2865.46, df = 2, p-value = 0.00000\n"
     ]
    }
   ],
   "source": [
    "table = [[7650, 12878,  4873], [25401, 25401, 25401]]\n",
    "stat, p, dof, expected = chi2_contingency(table)\n",
    "print('X-squared = %.2f, df = %d, p-value = %.5f' % (stat, dof, p))\n"
   ]
  },
  {
   "cell_type": "code",
   "execution_count": 38,
   "id": "73204b09",
   "metadata": {},
   "outputs": [
    {
     "name": "stdout",
     "output_type": "stream",
     "text": [
      "stat=35.094, p=0.000\n"
     ]
    }
   ],
   "source": [
    "count = np.array([7650, 4873])\n",
    "nobs = np.array([12523, 12523])\n",
    "stat, pval = proportions_ztest(count, nobs, alternative='larger')\n",
    "print('stat=%.3f, p=%.3f' % (stat, pval))"
   ]
  },
  {
   "cell_type": "markdown",
   "id": "6d53a62c",
   "metadata": {},
   "source": [
    "# 3. T-test"
   ]
  },
  {
   "cell_type": "code",
   "execution_count": 39,
   "id": "a0a980ce",
   "metadata": {},
   "outputs": [],
   "source": [
    "pro_array = [x for x in prodfs['sent_2'] if x==0 or x==2]\n"
   ]
  },
  {
   "cell_type": "code",
   "execution_count": 40,
   "id": "30695312",
   "metadata": {},
   "outputs": [],
   "source": [
    "anti_array = [x for x in antidfs['sent_2'] if x==0 or x==2]\n"
   ]
  },
  {
   "cell_type": "code",
   "execution_count": 41,
   "id": "3a4d99d2",
   "metadata": {},
   "outputs": [
    {
     "data": {
      "text/plain": [
       "Ttest_indResult(statistic=-6.533728589635983, pvalue=6.66361461069416e-11)"
      ]
     },
     "execution_count": 41,
     "metadata": {},
     "output_type": "execute_result"
    }
   ],
   "source": [
    "import scipy.stats as stats\n",
    "\n",
    "#perform two sample t-test with equal variances\n",
    "stats.ttest_ind(pro_array, anti_array)"
   ]
  }
 ],
 "metadata": {
  "kernelspec": {
   "display_name": "Python 3 (ipykernel)",
   "language": "python",
   "name": "python3"
  },
  "language_info": {
   "codemirror_mode": {
    "name": "ipython",
    "version": 3
   },
   "file_extension": ".py",
   "mimetype": "text/x-python",
   "name": "python",
   "nbconvert_exporter": "python",
   "pygments_lexer": "ipython3",
   "version": "3.9.12"
  }
 },
 "nbformat": 4,
 "nbformat_minor": 5
}
